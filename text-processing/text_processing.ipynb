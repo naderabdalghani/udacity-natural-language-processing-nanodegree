{
 "cells": [
  {
   "cell_type": "markdown",
   "metadata": {},
   "source": [
    "# Text Processing\n",
    "\n",
    "## Capturing Text Data\n",
    "\n",
    "### Plain Text"
   ]
  },
  {
   "cell_type": "code",
   "execution_count": 1,
   "metadata": {},
   "outputs": [
    {
     "name": "stdout",
     "output_type": "stream",
     "text": [
      "Hieroglyphic writing dates from c. 3000 BC, and is composed of hundreds of symbols. A hieroglyph can represent a word, a sound, or a silent determinative; and the same symbol can serve different purposes in different contexts. Hieroglyphs were a formal script, used on stone monuments and in tombs, that could be as detailed as individual works of art.\n",
      "\n"
     ]
    }
   ],
   "source": [
    "import os\n",
    "\n",
    "# Read in a plain text file\n",
    "with open(os.path.join(\"data\", \"hieroglyph.txt\"), \"r\") as f:\n",
    "    text = f.read()\n",
    "    print(text)"
   ]
  },
  {
   "cell_type": "markdown",
   "metadata": {},
   "source": [
    "### Tabular Data"
   ]
  },
  {
   "cell_type": "code",
   "execution_count": 2,
   "metadata": {
    "scrolled": true
   },
   "outputs": [
    {
     "data": {
      "text/html": [
       "<div>\n",
       "<style scoped>\n",
       "    .dataframe tbody tr th:only-of-type {\n",
       "        vertical-align: middle;\n",
       "    }\n",
       "\n",
       "    .dataframe tbody tr th {\n",
       "        vertical-align: top;\n",
       "    }\n",
       "\n",
       "    .dataframe thead th {\n",
       "        text-align: right;\n",
       "    }\n",
       "</style>\n",
       "<table border=\"1\" class=\"dataframe\">\n",
       "  <thead>\n",
       "    <tr style=\"text-align: right;\">\n",
       "      <th></th>\n",
       "      <th>publisher</th>\n",
       "      <th>title</th>\n",
       "    </tr>\n",
       "  </thead>\n",
       "  <tbody>\n",
       "    <tr>\n",
       "      <th>0</th>\n",
       "      <td>Livemint</td>\n",
       "      <td>fed's charles plosser sees high bar for change...</td>\n",
       "    </tr>\n",
       "    <tr>\n",
       "      <th>1</th>\n",
       "      <td>IFA Magazine</td>\n",
       "      <td>us open: stocks fall after fed official hints ...</td>\n",
       "    </tr>\n",
       "    <tr>\n",
       "      <th>2</th>\n",
       "      <td>IFA Magazine</td>\n",
       "      <td>fed risks falling 'behind the curve', charles ...</td>\n",
       "    </tr>\n",
       "    <tr>\n",
       "      <th>3</th>\n",
       "      <td>Moneynews</td>\n",
       "      <td>fed's plosser: nasty weather has curbed job gr...</td>\n",
       "    </tr>\n",
       "    <tr>\n",
       "      <th>4</th>\n",
       "      <td>NASDAQ</td>\n",
       "      <td>plosser: fed may have to accelerate tapering pace</td>\n",
       "    </tr>\n",
       "  </tbody>\n",
       "</table>\n",
       "</div>"
      ],
      "text/plain": [
       "      publisher                                              title\n",
       "0      Livemint  fed's charles plosser sees high bar for change...\n",
       "1  IFA Magazine  us open: stocks fall after fed official hints ...\n",
       "2  IFA Magazine  fed risks falling 'behind the curve', charles ...\n",
       "3     Moneynews  fed's plosser: nasty weather has curbed job gr...\n",
       "4        NASDAQ  plosser: fed may have to accelerate tapering pace"
      ]
     },
     "execution_count": 2,
     "metadata": {},
     "output_type": "execute_result"
    }
   ],
   "source": [
    "import pandas as pd\n",
    "\n",
    "# Extract text column from a dataframe\n",
    "df = pd.read_csv(os.path.join(\"data\", \"news.csv\"))\n",
    "df.head()[['publisher', 'title']]\n",
    "\n",
    "# Convert text column to lowercase\n",
    "df['title'] = df['title'].str.lower()\n",
    "df.head()[['publisher', 'title']]"
   ]
  },
  {
   "cell_type": "markdown",
   "metadata": {},
   "source": [
    "### Online Resource"
   ]
  },
  {
   "cell_type": "code",
   "execution_count": 3,
   "metadata": {
    "scrolled": true
   },
   "outputs": [
    {
     "name": "stdout",
     "output_type": "stream",
     "text": [
      "{\n",
      "    \"success\": {\n",
      "        \"total\": 1\n",
      "    },\n",
      "    \"contents\": {\n",
      "        \"quotes\": [\n",
      "            {\n",
      "                \"quote\": \"The beginning of freedom is the realization that you are not the possessing entity the thinker.\",\n",
      "                \"length\": \"95\",\n",
      "                \"author\": \"Eckhart Tolle\",\n",
      "                \"tags\": [\n",
      "                    \"freedom\",\n",
      "                    \"inspire\"\n",
      "                ],\n",
      "                \"category\": \"inspire\",\n",
      "                \"language\": \"en\",\n",
      "                \"date\": \"2020-09-30\",\n",
      "                \"permalink\": \"https://theysaidso.com/quote/eckhart-tolle-the-beginning-of-freedom-is-the-realization-that-you-are-not-the-p\",\n",
      "                \"id\": \"tWkmUgRvGuZLZ6r_Uj7nXAeF\",\n",
      "                \"background\": \"https://theysaidso.com/img/qod/qod-inspire.jpg\",\n",
      "                \"title\": \"Inspiring Quote of the day\"\n",
      "            }\n",
      "        ]\n",
      "    },\n",
      "    \"baseurl\": \"https://theysaidso.com\",\n",
      "    \"copyright\": {\n",
      "        \"year\": 2022,\n",
      "        \"url\": \"https://theysaidso.com\"\n",
      "    }\n",
      "}\n",
      "The beginning of freedom is the realization that you are not the possessing entity the thinker. \n",
      "-- Eckhart Tolle\n"
     ]
    }
   ],
   "source": [
    "import requests\n",
    "import json\n",
    "\n",
    "# Fetch data from a REST API\n",
    "r = requests.get(\n",
    "    \"https://quotes.rest/qod.json\")\n",
    "res = r.json()\n",
    "print(json.dumps(res, indent=4))\n",
    "\n",
    "# Extract relevant object and field\n",
    "q = res[\"contents\"][\"quotes\"][0]\n",
    "print(q[\"quote\"], \"\\n--\", q[\"author\"])"
   ]
  },
  {
   "cell_type": "markdown",
   "metadata": {},
   "source": [
    "## Cleaning"
   ]
  },
  {
   "cell_type": "code",
   "execution_count": 4,
   "metadata": {
    "scrolled": true
   },
   "outputs": [
    {
     "name": "stdout",
     "output_type": "stream",
     "text": [
      "<html lang=\"en\" op=\"news\"><head><meta name=\"referrer\" content=\"origin\"><meta name=\"viewport\" content=\"width=device-width, initial-scale=1.0\"><link rel=\"stylesheet\" type=\"text/css\" href=\"news.css?2qingEANQ4VPTuvtU2eM\">\n",
      "        <link rel=\"shortcut icon\" href=\"favicon.ico\">\n",
      "          <link rel=\"alternate\" type=\"application/rss+xml\" title=\"RSS\" href=\"rss\">\n",
      "        <title>Hacker News</title></head><body><center><table id=\"hnmain\" border=\"0\" cellpadding=\"0\" cellspacing=\"0\" width=\"85%\" bgcolor=\"#f6f6ef\">\n",
      "        <tr><td bgcolor=\"#ff6600\"><table border=\"0\" cellpadding=\"0\" cellspacing=\"0\" width=\"100%\" style=\"padding:2px\"><tr><td style=\"width:18px;padding-right:4px\"><a href=\"https://news.ycombinator.com\"><img src=\"y18.gif\" width=\"18\" height=\"18\" style=\"border:1px white solid;\"></a></td>\n",
      "                  <td style=\"line-height:12pt; height:10px;\"><span class=\"pagetop\"><b class=\"hnname\"><a href=\"news\">Hacker News</a></b>\n",
      "              <a href=\"newest\">new</a> | <a href=\"front\">past</a> | <a href=\"newcomments\">comments</a> | <a href=\"ask\">ask</a> | <a href=\"show\">show</a> | <a href=\"jobs\">jobs</a> | <a href=\"submit\">submit</a>            </span></td><td style=\"text-align:right;padding-right:4px;\"><span class=\"pagetop\">\n",
      "                              <a href=\"login?goto=news\">login</a>\n",
      "                          </span></td>\n",
      "              </tr></table></td></tr>\n",
      "<tr id=\"pagespace\" title=\"\" style=\"height:10px\"></tr><tr><td><table border=\"0\" cellpadding=\"0\" cellspacing=\"0\" class=\"itemlist\">\n",
      "              <tr class='athing' id='24636166'>\n",
      "      <td align=\"right\" valign=\"top\" class=\"title\"><span class=\"rank\">1.</span></td>      <td valign=\"top\" class=\"votelinks\"><center><a id='up_24636166' href='vote?id=24636166&amp;how=up&amp;goto=news'><div class='votearrow' title='upvote'></div></a></center></td><td class=\"title\"><a href=\"https://reportcybercrime.com/hackers-jailbreak-apples-t2-security-chip-powered-by-bridgeos/\" class=\"storylink\">Apple’s T2 security chip jailbreak</a><span class=\"sitebit comhead\"> (<a href=\"from?site=reportcybercrime.com\"><span class=\"sitestr\">reportcybercrime.com</span></a>)</span></td></tr><tr><td colspan=\"2\"></td><td class=\"subtext\">\n",
      "        <span class=\"score\" id=\"score_24636166\">124 points</span> by <a href=\"user?id=Yeri\" class=\"hnuser\">Yeri</a> <span class=\"age\"><a href=\"item?id=24636166\">1 hour ago</a></span> <span id=\"unv_24636166\"></span> | <a href=\"hide?id=24636166&amp;goto=news\">hide</a> | <a href=\"item?id=24636166\">22&nbsp;comments</a>              </td></tr>\n",
      "      <tr class=\"spacer\" style=\"height:5px\"></tr>\n",
      "                <tr class='athing' id='24635383'>\n",
      "      <td align=\"right\" valign=\"top\" class=\"title\"><span class=\"rank\">2.</span></td>      <td valign=\"top\" class=\"votelinks\"><center><a id='up_24635383' href='vote?id=24635383&amp;how=up&amp;goto=news'><div class='votearrow' title='upvote'></div></a></center></td><td class=\"title\"><a href=\"https://interrupt.memfault.com/blog/how-to-write-a-bootloader-from-scratch\" class=\"storylink\">From zero to main(): How to write a bootloader from scratch</a><span class=\"sitebit comhead\"> (<a href=\"from?site=memfault.com\"><span class=\"sitestr\">memfault.com</span></a>)</span></td></tr><tr><td colspan=\"2\"></td><td class=\"subtext\">\n",
      "        <span class=\"score\" id=\"score_24635383\">141 points</span> by <a href=\"user?id=tigerlily\" class=\"hnuser\">tigerlily</a> <span class=\"age\"><a href=\"item?id=24635383\">4 hours ago</a></span> <span id=\"unv_24635383\"></span> | <a href=\"hide?id=24635383&amp;goto=news\">hide</a> | <a href=\"item?id=24635383\">9&nbsp;comments</a>              </td></tr>\n",
      "      <tr class=\"spacer\" style=\"height:5px\"></tr>\n",
      "                <tr class='athing' id='24635141'>\n",
      "      <td align=\"right\" valign=\"top\" class=\"title\"><span class=\"rank\">3.</span></td>      <td valign=\"top\" class=\"votelinks\"><center><a id='up_24635141' href='vote?id=24635141&amp;how=up&amp;goto=news'><div class='votearrow' title='upvote'></div></a></center></td><td class=\"title\"><a href=\"https://mail.haskell.org/pipermail/ghc-devs/2020-September/019286.html\" class=\"storylink\">Haskell GHC 9.0.1-alpha released with Linear type support</a><span class=\"sitebit comhead\"> (<a href=\"from?site=haskell.org\"><span class=\"sitestr\">haskell.org</span></a>)</span></td></tr><tr><td colspan=\"2\"></td><td class=\"subtext\">\n",
      "        <span class=\"score\" id=\"score_24635141\">86 points</span> by <a href=\"user?id=harporoeder\" class=\"hnuser\">harporoeder</a> <span class=\"age\"><a href=\"item?id=24635141\">5 hours ago</a></span> <span id=\"unv_24635141\"></span> | <a href=\"hide?id=24635141&amp;goto=news\">hide</a> | <a href=\"item?id=24635141\">40&nbsp;comments</a>              </td></tr>\n",
      "      <tr class=\"spacer\" style=\"height:5px\"></tr>\n",
      "                <tr class='athing' id='24633484'>\n",
      "      <td align=\"right\" valign=\"top\" class=\"title\"><span class=\"rank\">4.</span></td>      <td valign=\"top\" class=\"votelinks\"><center><a id='up_24633484' href='vote?id=24633484&amp;how=up&amp;goto=news'><div class='votearrow' title='upvote'></div></a></center></td><td class=\"title\"><a href=\"https://seeing-theory.brown.edu/index.html\" class=\"storylink\">Seeing Theory: A Visual Introduction to Probability and Statistics</a><span class=\"sitebit comhead\"> (<a href=\"from?site=brown.edu\"><span class=\"sitestr\">brown.edu</span></a>)</span></td></tr><tr><td colspan=\"2\"></td><td class=\"subtext\">\n",
      "        <span class=\"score\" id=\"score_24633484\">312 points</span> by <a href=\"user?id=max10541\" class=\"hnuser\">max10541</a> <span class=\"age\"><a href=\"item?id=24633484\">10 hours ago</a></span> <span id=\"unv_24633484\"></span> | <a href=\"hide?id=24633484&amp;goto=news\">hide</a> | <a href=\"item?id=24633484\">40&nbsp;comments</a>              </td></tr>\n",
      "      <tr class=\"spacer\" style=\"height:5px\"></tr>\n",
      "                <tr class='athing' id='24627363'>\n",
      "      <td align=\"right\" valign=\"top\" class=\"title\"><span class=\"rank\">5.</span></td>      <td valign=\"top\" class=\"votelinks\"><center><a id='up_24627363' href='vote?id=24627363&amp;how=up&amp;goto=news'><div class='votearrow' title='upvote'></div></a></center></td><td class=\"title\"><a href=\"https://www.socialcooling.com/\" class=\"storylink\">Social Cooling (2017)</a><span class=\"sitebit comhead\"> (<a href=\"from?site=socialcooling.com\"><span class=\"sitestr\">socialcooling.com</span></a>)</span></td></tr><tr><td colspan=\"2\"></td><td class=\"subtext\">\n",
      "        <span class=\"score\" id=\"score_24627363\">2303 points</span> by <a href=\"user?id=rapnie\" class=\"hnuser\">rapnie</a> <span class=\"age\"><a href=\"item?id=24627363\">18 hours ago</a></span> <span id=\"unv_24627363\"></span> | <a href=\"hide?id=24627363&amp;goto=news\">hide</a> | <a href=\"item?id=24627363\">914&nbsp;comments</a>              </td></tr>\n",
      "      <tr class=\"spacer\" style=\"height:5px\"></tr>\n",
      "                <tr class='athing' id='24617571'>\n",
      "      <td align=\"right\" valign=\"top\" class=\"title\"><span class=\"rank\">6.</span></td>      <td valign=\"top\" class=\"votelinks\"><center><a id='up_24617571' href='vote?id=24617571&amp;how=up&amp;goto=news'><div class='votearrow' title='upvote'></div></a></center></td><td class=\"title\"><a href=\"https://www.quantamagazine.org/complexity-scientist-beats-traffic-jams-through-adaptation-20200928/\" class=\"storylink\">Complexity Scientist Beats Traffic Jams Through Adaptation</a><span class=\"sitebit comhead\"> (<a href=\"from?site=quantamagazine.org\"><span class=\"sitestr\">quantamagazine.org</span></a>)</span></td></tr><tr><td colspan=\"2\"></td><td class=\"subtext\">\n",
      "        <span class=\"score\" id=\"score_24617571\">41 points</span> by <a href=\"user?id=theafh\" class=\"hnuser\">theafh</a> <span class=\"age\"><a href=\"item?id=24617571\">5 hours ago</a></span> <span id=\"unv_24617571\"></span> | <a href=\"hide?id=24617571&amp;goto=news\">hide</a> | <a href=\"item?id=24617571\">8&nbsp;comments</a>              </td></tr>\n",
      "      <tr class=\"spacer\" style=\"height:5px\"></tr>\n",
      "                <tr class='athing' id='24622175'>\n",
      "      <td align=\"right\" valign=\"top\" class=\"title\"><span class=\"rank\">7.</span></td>      <td valign=\"top\" class=\"votelinks\"><center><a id='up_24622175' href='vote?id=24622175&amp;how=up&amp;goto=news'><div class='votearrow' title='upvote'></div></a></center></td><td class=\"title\"><a href=\"https://medium.com/@robertwiblin/how-i-used-the-internet-to-painlessly-relearn-a-foreign-language-and-you-could-to-63139f0dc5b6\" class=\"storylink\">I used the internet to painlessly relearn a foreign language</a><span class=\"sitebit comhead\"> (<a href=\"from?site=medium.com\"><span class=\"sitestr\">medium.com</span></a>)</span></td></tr><tr><td colspan=\"2\"></td><td class=\"subtext\">\n",
      "        <span class=\"score\" id=\"score_24622175\">97 points</span> by <a href=\"user?id=robertwiblin\" class=\"hnuser\">robertwiblin</a> <span class=\"age\"><a href=\"item?id=24622175\">8 hours ago</a></span> <span id=\"unv_24622175\"></span> | <a href=\"hide?id=24622175&amp;goto=news\">hide</a> | <a href=\"item?id=24622175\">52&nbsp;comments</a>              </td></tr>\n",
      "      <tr class=\"spacer\" style=\"height:5px\"></tr>\n",
      "                <tr class='athing' id='24636322'>\n",
      "      <td align=\"right\" valign=\"top\" class=\"title\"><span class=\"rank\">8.</span></td>      <td></td><td class=\"title\"><a href=\"https://gustav-technologies-inc.breezy.hr/p/e2cdec295d2001\" class=\"storylink\" rel=\"nofollow\">Gustav (YC S17) Is Hiring – Senior Front End React (Fully Remote)</a><span class=\"sitebit comhead\"> (<a href=\"from?site=breezy.hr\"><span class=\"sitestr\">breezy.hr</span></a>)</span></td></tr><tr><td colspan=\"2\"></td><td class=\"subtext\">\n",
      "        <span class=\"age\"><a href=\"item?id=24636322\">57 minutes ago</a></span> | <a href=\"hide?id=24636322&amp;goto=news\">hide</a>      </td></tr>\n",
      "      <tr class=\"spacer\" style=\"height:5px\"></tr>\n",
      "                <tr class='athing' id='24635815'>\n",
      "      <td align=\"right\" valign=\"top\" class=\"title\"><span class=\"rank\">9.</span></td>      <td valign=\"top\" class=\"votelinks\"><center><a id='up_24635815' href='vote?id=24635815&amp;how=up&amp;goto=news'><div class='votearrow' title='upvote'></div></a></center></td><td class=\"title\"><a href=\"https://semiengineering.com/transistor-options-beyond-3nm/\" class=\"storylink\">Transistor Options Beyond 3nm (2018)</a><span class=\"sitebit comhead\"> (<a href=\"from?site=semiengineering.com\"><span class=\"sitestr\">semiengineering.com</span></a>)</span></td></tr><tr><td colspan=\"2\"></td><td class=\"subtext\">\n",
      "        <span class=\"score\" id=\"score_24635815\">15 points</span> by <a href=\"user?id=cracker_jacks\" class=\"hnuser\">cracker_jacks</a> <span class=\"age\"><a href=\"item?id=24635815\">3 hours ago</a></span> <span id=\"unv_24635815\"></span> | <a href=\"hide?id=24635815&amp;goto=news\">hide</a> | <a href=\"item?id=24635815\">discuss</a>              </td></tr>\n",
      "      <tr class=\"spacer\" style=\"height:5px\"></tr>\n",
      "                <tr class='athing' id='24634978'>\n",
      "      <td align=\"right\" valign=\"top\" class=\"title\"><span class=\"rank\">10.</span></td>      <td valign=\"top\" class=\"votelinks\"><center><a id='up_24634978' href='vote?id=24634978&amp;how=up&amp;goto=news'><div class='votearrow' title='upvote'></div></a></center></td><td class=\"title\"><a href=\"https://firetable.io/\" class=\"storylink\">Firetable – Spreadsheet-like UI for Firestore</a><span class=\"sitebit comhead\"> (<a href=\"from?site=firetable.io\"><span class=\"sitestr\">firetable.io</span></a>)</span></td></tr><tr><td colspan=\"2\"></td><td class=\"subtext\">\n",
      "        <span class=\"score\" id=\"score_24634978\">71 points</span> by <a href=\"user?id=anindha\" class=\"hnuser\">anindha</a> <span class=\"age\"><a href=\"item?id=24634978\">6 hours ago</a></span> <span id=\"unv_24634978\"></span> | <a href=\"hide?id=24634978&amp;goto=news\">hide</a> | <a href=\"item?id=24634978\">7&nbsp;comments</a>              </td></tr>\n",
      "      <tr class=\"spacer\" style=\"height:5px\"></tr>\n",
      "                <tr class='athing' id='24633199'>\n",
      "      <td align=\"right\" valign=\"top\" class=\"title\"><span class=\"rank\">11.</span></td>      <td valign=\"top\" class=\"votelinks\"><center><a id='up_24633199' href='vote?id=24633199&amp;how=up&amp;goto=news'><div class='votearrow' title='upvote'></div></a></center></td><td class=\"title\"><a href=\"https://github.com/mytechnotalent/Python-For-Kids\" class=\"storylink\">Python for Kids: A Comprehensive Python Development Tutorial for Kids</a><span class=\"sitebit comhead\"> (<a href=\"from?site=github.com\"><span class=\"sitestr\">github.com</span></a>)</span></td></tr><tr><td colspan=\"2\"></td><td class=\"subtext\">\n",
      "        <span class=\"score\" id=\"score_24633199\">138 points</span> by <a href=\"user?id=rbanffy\" class=\"hnuser\">rbanffy</a> <span class=\"age\"><a href=\"item?id=24633199\">10 hours ago</a></span> <span id=\"unv_24633199\"></span> | <a href=\"hide?id=24633199&amp;goto=news\">hide</a> | <a href=\"item?id=24633199\">20&nbsp;comments</a>              </td></tr>\n",
      "      <tr class=\"spacer\" style=\"height:5px\"></tr>\n",
      "                <tr class='athing' id='24624988'>\n",
      "      <td align=\"right\" valign=\"top\" class=\"title\"><span class=\"rank\">12.</span></td>      <td valign=\"top\" class=\"votelinks\"><center><a id='up_24624988' href='vote?id=24624988&amp;how=up&amp;goto=news'><div class='votearrow' title='upvote'></div></a></center></td><td class=\"title\"><a href=\"https://www.theguardian.com/world/2020/sep/29/inside-the-airline-industry-meltdown-coronavirus-pandemic\" class=\"storylink\">The Airline Industry's Meltdown</a><span class=\"sitebit comhead\"> (<a href=\"from?site=theguardian.com\"><span class=\"sitestr\">theguardian.com</span></a>)</span></td></tr><tr><td colspan=\"2\"></td><td class=\"subtext\">\n",
      "        <span class=\"score\" id=\"score_24624988\">21 points</span> by <a href=\"user?id=kawera\" class=\"hnuser\">kawera</a> <span class=\"age\"><a href=\"item?id=24624988\">4 hours ago</a></span> <span id=\"unv_24624988\"></span> | <a href=\"hide?id=24624988&amp;goto=news\">hide</a> | <a href=\"item?id=24624988\">4&nbsp;comments</a>              </td></tr>\n",
      "      <tr class=\"spacer\" style=\"height:5px\"></tr>\n",
      "                <tr class='athing' id='24631138'>\n",
      "      <td align=\"right\" valign=\"top\" class=\"title\"><span class=\"rank\">13.</span></td>      <td valign=\"top\" class=\"votelinks\"><center><a id='up_24631138' href='vote?id=24631138&amp;how=up&amp;goto=news'><div class='votearrow' title='upvote'></div></a></center></td><td class=\"title\"><a href=\"https://lwn.net/SubscriberLink/832429/5a786cc0fed26353/\" class=\"storylink\">New Features in the Fish Shell</a><span class=\"sitebit comhead\"> (<a href=\"from?site=lwn.net\"><span class=\"sitestr\">lwn.net</span></a>)</span></td></tr><tr><td colspan=\"2\"></td><td class=\"subtext\">\n",
      "        <span class=\"score\" id=\"score_24631138\">283 points</span> by <a href=\"user?id=chmaynard\" class=\"hnuser\">chmaynard</a> <span class=\"age\"><a href=\"item?id=24631138\">13 hours ago</a></span> <span id=\"unv_24631138\"></span> | <a href=\"hide?id=24631138&amp;goto=news\">hide</a> | <a href=\"item?id=24631138\">124&nbsp;comments</a>              </td></tr>\n",
      "      <tr class=\"spacer\" style=\"height:5px\"></tr>\n",
      "                <tr class='athing' id='24635235'>\n",
      "      <td align=\"right\" valign=\"top\" class=\"title\"><span class=\"rank\">14.</span></td>      <td valign=\"top\" class=\"votelinks\"><center><a id='up_24635235' href='vote?id=24635235&amp;how=up&amp;goto=news'><div class='votearrow' title='upvote'></div></a></center></td><td class=\"title\"><a href=\"http://aosabook.org\" class=\"storylink\">The Architecture of Open Source Applications</a><span class=\"sitebit comhead\"> (<a href=\"from?site=aosabook.org\"><span class=\"sitestr\">aosabook.org</span></a>)</span></td></tr><tr><td colspan=\"2\"></td><td class=\"subtext\">\n",
      "        <span class=\"score\" id=\"score_24635235\">26 points</span> by <a href=\"user?id=xanthine\" class=\"hnuser\">xanthine</a> <span class=\"age\"><a href=\"item?id=24635235\">5 hours ago</a></span> <span id=\"unv_24635235\"></span> | <a href=\"hide?id=24635235&amp;goto=news\">hide</a> | <a href=\"item?id=24635235\">1&nbsp;comment</a>              </td></tr>\n",
      "      <tr class=\"spacer\" style=\"height:5px\"></tr>\n",
      "                <tr class='athing' id='24622464'>\n",
      "      <td align=\"right\" valign=\"top\" class=\"title\"><span class=\"rank\">15.</span></td>      <td valign=\"top\" class=\"votelinks\"><center><a id='up_24622464' href='vote?id=24622464&amp;how=up&amp;goto=news'><div class='votearrow' title='upvote'></div></a></center></td><td class=\"title\"><a href=\"https://bugs.llvm.org/show_bug.cgi?id=47567\" class=\"storylink\">Incorrect transformation: (llvm.maximum undef, %x) – undef</a><span class=\"sitebit comhead\"> (<a href=\"from?site=llvm.org\"><span class=\"sitestr\">llvm.org</span></a>)</span></td></tr><tr><td colspan=\"2\"></td><td class=\"subtext\">\n",
      "        <span class=\"score\" id=\"score_24622464\">15 points</span> by <a href=\"user?id=luu\" class=\"hnuser\">luu</a> <span class=\"age\"><a href=\"item?id=24622464\">3 hours ago</a></span> <span id=\"unv_24622464\"></span> | <a href=\"hide?id=24622464&amp;goto=news\">hide</a> | <a href=\"item?id=24622464\">discuss</a>              </td></tr>\n",
      "      <tr class=\"spacer\" style=\"height:5px\"></tr>\n",
      "                <tr class='athing' id='24634811'>\n",
      "      <td align=\"right\" valign=\"top\" class=\"title\"><span class=\"rank\">16.</span></td>      <td valign=\"top\" class=\"votelinks\"><center><a id='up_24634811' href='vote?id=24634811&amp;how=up&amp;goto=news'><div class='votearrow' title='upvote'></div></a></center></td><td class=\"title\"><a href=\"https://www.apple.com/support/systemstatus/\" class=\"storylink\">Several Apple Services Down</a><span class=\"sitebit comhead\"> (<a href=\"from?site=apple.com\"><span class=\"sitestr\">apple.com</span></a>)</span></td></tr><tr><td colspan=\"2\"></td><td class=\"subtext\">\n",
      "        <span class=\"score\" id=\"score_24634811\">195 points</span> by <a href=\"user?id=jader201\" class=\"hnuser\">jader201</a> <span class=\"age\"><a href=\"item?id=24634811\">6 hours ago</a></span> <span id=\"unv_24634811\"></span> | <a href=\"hide?id=24634811&amp;goto=news\">hide</a> | <a href=\"item?id=24634811\">92&nbsp;comments</a>              </td></tr>\n",
      "      <tr class=\"spacer\" style=\"height:5px\"></tr>\n",
      "                <tr class='athing' id='24633139'>\n",
      "      <td align=\"right\" valign=\"top\" class=\"title\"><span class=\"rank\">17.</span></td>      <td valign=\"top\" class=\"votelinks\"><center><a id='up_24633139' href='vote?id=24633139&amp;how=up&amp;goto=news'><div class='votearrow' title='upvote'></div></a></center></td><td class=\"title\"><a href=\"https://github.com/obsproject/obs-studio/releases/tag/26.0.0\" class=\"storylink\">OBS Studio 26.0</a><span class=\"sitebit comhead\"> (<a href=\"from?site=github.com\"><span class=\"sitestr\">github.com</span></a>)</span></td></tr><tr><td colspan=\"2\"></td><td class=\"subtext\">\n",
      "        <span class=\"score\" id=\"score_24633139\">296 points</span> by <a href=\"user?id=haunter\" class=\"hnuser\">haunter</a> <span class=\"age\"><a href=\"item?id=24633139\">10 hours ago</a></span> <span id=\"unv_24633139\"></span> | <a href=\"hide?id=24633139&amp;goto=news\">hide</a> | <a href=\"item?id=24633139\">119&nbsp;comments</a>              </td></tr>\n",
      "      <tr class=\"spacer\" style=\"height:5px\"></tr>\n",
      "                <tr class='athing' id='24623639'>\n",
      "      <td align=\"right\" valign=\"top\" class=\"title\"><span class=\"rank\">18.</span></td>      <td valign=\"top\" class=\"votelinks\"><center><a id='up_24623639' href='vote?id=24623639&amp;how=up&amp;goto=news'><div class='votearrow' title='upvote'></div></a></center></td><td class=\"title\"><a href=\"https://algoritmeregister.amsterdam.nl/en/ai-register/\" class=\"storylink\">City of Amsterdam’s Algorithm Register</a><span class=\"sitebit comhead\"> (<a href=\"from?site=amsterdam.nl\"><span class=\"sitestr\">amsterdam.nl</span></a>)</span></td></tr><tr><td colspan=\"2\"></td><td class=\"subtext\">\n",
      "        <span class=\"score\" id=\"score_24623639\">58 points</span> by <a href=\"user?id=cpeterso\" class=\"hnuser\">cpeterso</a> <span class=\"age\"><a href=\"item?id=24623639\">6 hours ago</a></span> <span id=\"unv_24623639\"></span> | <a href=\"hide?id=24623639&amp;goto=news\">hide</a> | <a href=\"item?id=24623639\">9&nbsp;comments</a>              </td></tr>\n",
      "      <tr class=\"spacer\" style=\"height:5px\"></tr>\n",
      "                <tr class='athing' id='24631681'>\n",
      "      <td align=\"right\" valign=\"top\" class=\"title\"><span class=\"rank\">19.</span></td>      <td valign=\"top\" class=\"votelinks\"><center><a id='up_24631681' href='vote?id=24631681&amp;how=up&amp;goto=news'><div class='votearrow' title='upvote'></div></a></center></td><td class=\"title\"><a href=\"https://www.figma.com/blog/when-fonts-fall/\" class=\"storylink\">When Fonts Fall</a><span class=\"sitebit comhead\"> (<a href=\"from?site=figma.com\"><span class=\"sitestr\">figma.com</span></a>)</span></td></tr><tr><td colspan=\"2\"></td><td class=\"subtext\">\n",
      "        <span class=\"score\" id=\"score_24631681\">174 points</span> by <a href=\"user?id=twog\" class=\"hnuser\">twog</a> <span class=\"age\"><a href=\"item?id=24631681\">12 hours ago</a></span> <span id=\"unv_24631681\"></span> | <a href=\"hide?id=24631681&amp;goto=news\">hide</a> | <a href=\"item?id=24631681\">28&nbsp;comments</a>              </td></tr>\n",
      "      <tr class=\"spacer\" style=\"height:5px\"></tr>\n",
      "                <tr class='athing' id='24629828'>\n",
      "      <td align=\"right\" valign=\"top\" class=\"title\"><span class=\"rank\">20.</span></td>      <td valign=\"top\" class=\"votelinks\"><center><a id='up_24629828' href='vote?id=24629828&amp;how=up&amp;goto=news'><div class='votearrow' title='upvote'></div></a></center></td><td class=\"title\"><a href=\"https://www.nytimes.com/2020/09/29/climate/nuclear-fusion-reactor.html\" class=\"storylink\">Compact nuclear fusion reactor is 'very likely to work,' studies suggest</a><span class=\"sitebit comhead\"> (<a href=\"from?site=nytimes.com\"><span class=\"sitestr\">nytimes.com</span></a>)</span></td></tr><tr><td colspan=\"2\"></td><td class=\"subtext\">\n",
      "        <span class=\"score\" id=\"score_24629828\">489 points</span> by <a href=\"user?id=Todd\" class=\"hnuser\">Todd</a> <span class=\"age\"><a href=\"item?id=24629828\">15 hours ago</a></span> <span id=\"unv_24629828\"></span> | <a href=\"hide?id=24629828&amp;goto=news\">hide</a> | <a href=\"item?id=24629828\">243&nbsp;comments</a>              </td></tr>\n",
      "      <tr class=\"spacer\" style=\"height:5px\"></tr>\n",
      "                <tr class='athing' id='24635307'>\n",
      "      <td align=\"right\" valign=\"top\" class=\"title\"><span class=\"rank\">21.</span></td>      <td valign=\"top\" class=\"votelinks\"><center><a id='up_24635307' href='vote?id=24635307&amp;how=up&amp;goto=news'><div class='votearrow' title='upvote'></div></a></center></td><td class=\"title\"><a href=\"https://www.reuters.com/article/us-tech-antitrust-google/u-s-expected-to-sue-google-next-week-as-doj-seeks-support-from-states-idUSKBN26K3SR\" class=\"storylink\">U.S. expected to sue Google next week as DOJ seeks support from states</a><span class=\"sitebit comhead\"> (<a href=\"from?site=reuters.com\"><span class=\"sitestr\">reuters.com</span></a>)</span></td></tr><tr><td colspan=\"2\"></td><td class=\"subtext\">\n",
      "        <span class=\"score\" id=\"score_24635307\">83 points</span> by <a href=\"user?id=pseudolus\" class=\"hnuser\">pseudolus</a> <span class=\"age\"><a href=\"item?id=24635307\">4 hours ago</a></span> <span id=\"unv_24635307\"></span> | <a href=\"hide?id=24635307&amp;goto=news\">hide</a> | <a href=\"item?id=24635307\">33&nbsp;comments</a>              </td></tr>\n",
      "      <tr class=\"spacer\" style=\"height:5px\"></tr>\n",
      "                <tr class='athing' id='24633895'>\n",
      "      <td align=\"right\" valign=\"top\" class=\"title\"><span class=\"rank\">22.</span></td>      <td valign=\"top\" class=\"votelinks\"><center><a id='up_24633895' href='vote?id=24633895&amp;how=up&amp;goto=news'><div class='votearrow' title='upvote'></div></a></center></td><td class=\"title\"><a href=\"https://github.com/StarGate01/Full-Stack-Fortran\" class=\"storylink\">Fortran Compiled to WebAssembly</a><span class=\"sitebit comhead\"> (<a href=\"from?site=github.com\"><span class=\"sitestr\">github.com</span></a>)</span></td></tr><tr><td colspan=\"2\"></td><td class=\"subtext\">\n",
      "        <span class=\"score\" id=\"score_24633895\">51 points</span> by <a href=\"user?id=todsacerdoti\" class=\"hnuser\">todsacerdoti</a> <span class=\"age\"><a href=\"item?id=24633895\">9 hours ago</a></span> <span id=\"unv_24633895\"></span> | <a href=\"hide?id=24633895&amp;goto=news\">hide</a> | <a href=\"item?id=24633895\">8&nbsp;comments</a>              </td></tr>\n",
      "      <tr class=\"spacer\" style=\"height:5px\"></tr>\n",
      "                <tr class='athing' id='24622234'>\n",
      "      <td align=\"right\" valign=\"top\" class=\"title\"><span class=\"rank\">23.</span></td>      <td valign=\"top\" class=\"votelinks\"><center><a id='up_24622234' href='vote?id=24622234&amp;how=up&amp;goto=news'><div class='votearrow' title='upvote'></div></a></center></td><td class=\"title\"><a href=\"https://www.chicagotribune.com/consumer-reviews/sns-magic-gloves-helped-brazilian-pianist-joao-carlos-martins-play-20200123-3jydwt47rjgd7bddvz4fc252a4-story.html\" class=\"storylink\">Specially made gloves let Brazilian pianist Joao Carlos Martins play again</a><span class=\"sitebit comhead\"> (<a href=\"from?site=chicagotribune.com\"><span class=\"sitestr\">chicagotribune.com</span></a>)</span></td></tr><tr><td colspan=\"2\"></td><td class=\"subtext\">\n",
      "        <span class=\"score\" id=\"score_24622234\">84 points</span> by <a href=\"user?id=BobbyVsTheDevil\" class=\"hnuser\">BobbyVsTheDevil</a> <span class=\"age\"><a href=\"item?id=24622234\">13 hours ago</a></span> <span id=\"unv_24622234\"></span> | <a href=\"hide?id=24622234&amp;goto=news\">hide</a> | <a href=\"item?id=24622234\">11&nbsp;comments</a>              </td></tr>\n",
      "      <tr class=\"spacer\" style=\"height:5px\"></tr>\n",
      "                <tr class='athing' id='24628549'>\n",
      "      <td align=\"right\" valign=\"top\" class=\"title\"><span class=\"rank\">24.</span></td>      <td valign=\"top\" class=\"votelinks\"><center><a id='up_24628549' href='vote?id=24628549&amp;how=up&amp;goto=news'><div class='votearrow' title='upvote'></div></a></center></td><td class=\"title\"><a href=\"https://martin.kleppmann.com/2020/09/29/is-book-writing-worth-it.html\" class=\"storylink\">Writing a book: is it worth it?</a><span class=\"sitebit comhead\"> (<a href=\"from?site=kleppmann.com\"><span class=\"sitestr\">kleppmann.com</span></a>)</span></td></tr><tr><td colspan=\"2\"></td><td class=\"subtext\">\n",
      "        <span class=\"score\" id=\"score_24628549\">542 points</span> by <a href=\"user?id=vivekseth\" class=\"hnuser\">vivekseth</a> <span class=\"age\"><a href=\"item?id=24628549\">17 hours ago</a></span> <span id=\"unv_24628549\"></span> | <a href=\"hide?id=24628549&amp;goto=news\">hide</a> | <a href=\"item?id=24628549\">243&nbsp;comments</a>              </td></tr>\n",
      "      <tr class=\"spacer\" style=\"height:5px\"></tr>\n",
      "                <tr class='athing' id='24631978'>\n",
      "      <td align=\"right\" valign=\"top\" class=\"title\"><span class=\"rank\">25.</span></td>      <td valign=\"top\" class=\"votelinks\"><center><a id='up_24631978' href='vote?id=24631978&amp;how=up&amp;goto=news'><div class='votearrow' title='upvote'></div></a></center></td><td class=\"title\"><a href=\"https://catonmat.net/summary-of-mit-introduction-to-algorithms\" class=\"storylink\">Summary of all the MIT Introduction to Algorithms lectures (2009)</a><span class=\"sitebit comhead\"> (<a href=\"from?site=catonmat.net\"><span class=\"sitestr\">catonmat.net</span></a>)</span></td></tr><tr><td colspan=\"2\"></td><td class=\"subtext\">\n",
      "        <span class=\"score\" id=\"score_24631978\">124 points</span> by <a href=\"user?id=addisonc\" class=\"hnuser\">addisonc</a> <span class=\"age\"><a href=\"item?id=24631978\">12 hours ago</a></span> <span id=\"unv_24631978\"></span> | <a href=\"hide?id=24631978&amp;goto=news\">hide</a> | <a href=\"item?id=24631978\">7&nbsp;comments</a>              </td></tr>\n",
      "      <tr class=\"spacer\" style=\"height:5px\"></tr>\n",
      "                <tr class='athing' id='24615787'>\n",
      "      <td align=\"right\" valign=\"top\" class=\"title\"><span class=\"rank\">26.</span></td>      <td valign=\"top\" class=\"votelinks\"><center><a id='up_24615787' href='vote?id=24615787&amp;how=up&amp;goto=news'><div class='votearrow' title='upvote'></div></a></center></td><td class=\"title\"><a href=\"https://github.com/tridactyl/tridactyl\" class=\"storylink\">Tridactyl: A Vim-like interface for Firefox</a><span class=\"sitebit comhead\"> (<a href=\"from?site=github.com\"><span class=\"sitestr\">github.com</span></a>)</span></td></tr><tr><td colspan=\"2\"></td><td class=\"subtext\">\n",
      "        <span class=\"score\" id=\"score_24615787\">87 points</span> by <a href=\"user?id=RMPR\" class=\"hnuser\">RMPR</a> <span class=\"age\"><a href=\"item?id=24615787\">11 hours ago</a></span> <span id=\"unv_24615787\"></span> | <a href=\"hide?id=24615787&amp;goto=news\">hide</a> | <a href=\"item?id=24615787\">36&nbsp;comments</a>              </td></tr>\n",
      "      <tr class=\"spacer\" style=\"height:5px\"></tr>\n",
      "                <tr class='athing' id='24631611'>\n",
      "      <td align=\"right\" valign=\"top\" class=\"title\"><span class=\"rank\">27.</span></td>      <td valign=\"top\" class=\"votelinks\"><center><a id='up_24631611' href='vote?id=24631611&amp;how=up&amp;goto=news'><div class='votearrow' title='upvote'></div></a></center></td><td class=\"title\"><a href=\"https://raphlinus.github.io/rust/druid/2020/09/28/rust-2021.html\" class=\"storylink\">Rust 2021: GUI</a><span class=\"sitebit comhead\"> (<a href=\"from?site=raphlinus.github.io\"><span class=\"sitestr\">raphlinus.github.io</span></a>)</span></td></tr><tr><td colspan=\"2\"></td><td class=\"subtext\">\n",
      "        <span class=\"score\" id=\"score_24631611\">317 points</span> by <a href=\"user?id=clarkmoody\" class=\"hnuser\">clarkmoody</a> <span class=\"age\"><a href=\"item?id=24631611\">12 hours ago</a></span> <span id=\"unv_24631611\"></span> | <a href=\"hide?id=24631611&amp;goto=news\">hide</a> | <a href=\"item?id=24631611\">188&nbsp;comments</a>              </td></tr>\n",
      "      <tr class=\"spacer\" style=\"height:5px\"></tr>\n",
      "                <tr class='athing' id='24632578'>\n",
      "      <td align=\"right\" valign=\"top\" class=\"title\"><span class=\"rank\">28.</span></td>      <td valign=\"top\" class=\"votelinks\"><center><a id='up_24632578' href='vote?id=24632578&amp;how=up&amp;goto=news'><div class='votearrow' title='upvote'></div></a></center></td><td class=\"title\"><a href=\"https://gitlab.com/p3r.one/apollo\" class=\"storylink\">Apollo – An Extensible Docker-Based Platform as a Service (PaaS)</a><span class=\"sitebit comhead\"> (<a href=\"from?site=gitlab.com\"><span class=\"sitestr\">gitlab.com</span></a>)</span></td></tr><tr><td colspan=\"2\"></td><td class=\"subtext\">\n",
      "        <span class=\"score\" id=\"score_24632578\">80 points</span> by <a href=\"user?id=kchhina\" class=\"hnuser\">kchhina</a> <span class=\"age\"><a href=\"item?id=24632578\">11 hours ago</a></span> <span id=\"unv_24632578\"></span> | <a href=\"hide?id=24632578&amp;goto=news\">hide</a> | <a href=\"item?id=24632578\">31&nbsp;comments</a>              </td></tr>\n",
      "      <tr class=\"spacer\" style=\"height:5px\"></tr>\n",
      "                <tr class='athing' id='24619482'>\n",
      "      <td align=\"right\" valign=\"top\" class=\"title\"><span class=\"rank\">29.</span></td>      <td valign=\"top\" class=\"votelinks\"><center><a id='up_24619482' href='vote?id=24619482&amp;how=up&amp;goto=news'><div class='votearrow' title='upvote'></div></a></center></td><td class=\"title\"><a href=\"https://www.laphamsquarterly.org/roundtable/turtle-animal-or-fish\" class=\"storylink\">Is a Turtle an Animal or a Fish?</a><span class=\"sitebit comhead\"> (<a href=\"from?site=laphamsquarterly.org\"><span class=\"sitestr\">laphamsquarterly.org</span></a>)</span></td></tr><tr><td colspan=\"2\"></td><td class=\"subtext\">\n",
      "        <span class=\"score\" id=\"score_24619482\">46 points</span> by <a href=\"user?id=Petiver\" class=\"hnuser\">Petiver</a> <span class=\"age\"><a href=\"item?id=24619482\">9 hours ago</a></span> <span id=\"unv_24619482\"></span> | <a href=\"hide?id=24619482&amp;goto=news\">hide</a> | <a href=\"item?id=24619482\">26&nbsp;comments</a>              </td></tr>\n",
      "      <tr class=\"spacer\" style=\"height:5px\"></tr>\n",
      "                <tr class='athing' id='24620377'>\n",
      "      <td align=\"right\" valign=\"top\" class=\"title\"><span class=\"rank\">30.</span></td>      <td valign=\"top\" class=\"votelinks\"><center><a id='up_24620377' href='vote?id=24620377&amp;how=up&amp;goto=news'><div class='votearrow' title='upvote'></div></a></center></td><td class=\"title\"><a href=\"https://phys.org/news/2020-09-pace-environmental-doom-coral-reefs.html\" class=\"storylink\">The pace of environmental change can doom or save coral reefs</a><span class=\"sitebit comhead\"> (<a href=\"from?site=phys.org\"><span class=\"sitestr\">phys.org</span></a>)</span></td></tr><tr><td colspan=\"2\"></td><td class=\"subtext\">\n",
      "        <span class=\"score\" id=\"score_24620377\">25 points</span> by <a href=\"user?id=dnetesn\" class=\"hnuser\">dnetesn</a> <span class=\"age\"><a href=\"item?id=24620377\">9 hours ago</a></span> <span id=\"unv_24620377\"></span> | <a href=\"hide?id=24620377&amp;goto=news\">hide</a> | <a href=\"item?id=24620377\">3&nbsp;comments</a>              </td></tr>\n",
      "      <tr class=\"spacer\" style=\"height:5px\"></tr>\n",
      "            <tr class=\"morespace\" style=\"height:10px\"></tr><tr><td colspan=\"2\"></td><td class=\"title\"><a href=\"news?p=2\" class=\"morelink\" rel=\"next\">More</a></td></tr>\n",
      "  </table>\n",
      "</td></tr>\n",
      "<tr><td><img src=\"s.gif\" height=\"10\" width=\"0\"><table width=\"100%\" cellspacing=\"0\" cellpadding=\"1\"><tr><td bgcolor=\"#ff6600\"></td></tr></table><br><center><span class=\"yclinks\"><a href=\"newsguidelines.html\">Guidelines</a>\n",
      "        | <a href=\"newsfaq.html\">FAQ</a>\n",
      "        | <a href=\"mailto:hn@ycombinator.com\">Support</a>\n",
      "        | <a href=\"https://github.com/HackerNews/API\">API</a>\n",
      "        | <a href=\"security.html\">Security</a>\n",
      "        | <a href=\"lists\">Lists</a>\n",
      "        | <a href=\"bookmarklet.html\" rel=\"nofollow\">Bookmarklet</a>\n",
      "        | <a href=\"http://www.ycombinator.com/legal/\">Legal</a>\n",
      "        | <a href=\"http://www.ycombinator.com/apply/\">Apply to YC</a>\n",
      "        | <a href=\"mailto:hn@ycombinator.com\">Contact</a></span><br><br><form method=\"get\" action=\"//hn.algolia.com/\">Search:\n",
      "          <input type=\"text\" name=\"q\" value=\"\" size=\"17\" autocorrect=\"off\" spellcheck=\"false\" autocapitalize=\"off\" autocomplete=\"false\"></form>\n",
      "            </center></td></tr>\n",
      "      </table></center></body><script type='text/javascript' src='hn.js?2qingEANQ4VPTuvtU2eM'></script></html>\n",
      "\n"
     ]
    }
   ],
   "source": [
    "import requests\n",
    "\n",
    "# Fetch a web page\n",
    "r = requests.get(\"https://news.ycombinator.com\")\n",
    "print(r.text)"
   ]
  },
  {
   "cell_type": "code",
   "execution_count": 5,
   "metadata": {},
   "outputs": [
    {
     "name": "stdout",
     "output_type": "stream",
     "text": [
      "\n",
      "        \n",
      "          \n",
      "        Hacker News\n",
      "        \n",
      "                  Hacker News\n",
      "              new | past | comments | ask | show | jobs | submit            \n",
      "                              login\n",
      "                          \n",
      "              \n",
      "\n",
      "              \n",
      "      1.      Apple’s T2 security chip jailbreak (reportcybercrime.com)\n",
      "        124 points by Yeri 1 hour ago  | hide | 22&nbsp;comments              \n",
      "      \n",
      "                \n",
      "      2.      From zero to main(): How to write a bootloader from scratch (memfault.com)\n",
      "        141 points by tigerlily 4 hours ago  | hide | 9&nbsp;comments              \n",
      "      \n",
      "                \n",
      "      3.      Haskell GHC 9.0.1-alpha released with Linear type support (haskell.org)\n",
      "        86 points by harporoeder 5 hours ago  | hide | 40&nbsp;comments              \n",
      "      \n",
      "                \n",
      "      4.      Seeing Theory: A Visual Introduction to Probability and Statistics (brown.edu)\n",
      "        312 points by max10541 10 hours ago  | hide | 40&nbsp;comments              \n",
      "      \n",
      "                \n",
      "      5.      Social Cooling (2017) (socialcooling.com)\n",
      "        2303 points by rapnie 18 hours ago  | hide | 914&nbsp;comments              \n",
      "      \n",
      "                \n",
      "      6.      Complexity Scientist Beats Traffic Jams Through Adaptation (quantamagazine.org)\n",
      "        41 points by theafh 5 hours ago  | hide | 8&nbsp;comments              \n",
      "      \n",
      "                \n",
      "      7.      I used the internet to painlessly relearn a foreign language (medium.com)\n",
      "        97 points by robertwiblin 8 hours ago  | hide | 52&nbsp;comments              \n",
      "      \n",
      "                \n",
      "      8.      Gustav (YC S17) Is Hiring – Senior Front End React (Fully Remote) (breezy.hr)\n",
      "        57 minutes ago | hide      \n",
      "      \n",
      "                \n",
      "      9.      Transistor Options Beyond 3nm (2018) (semiengineering.com)\n",
      "        15 points by cracker_jacks 3 hours ago  | hide | discuss              \n",
      "      \n",
      "                \n",
      "      10.      Firetable – Spreadsheet-like UI for Firestore (firetable.io)\n",
      "        71 points by anindha 6 hours ago  | hide | 7&nbsp;comments              \n",
      "      \n",
      "                \n",
      "      11.      Python for Kids: A Comprehensive Python Development Tutorial for Kids (github.com)\n",
      "        138 points by rbanffy 10 hours ago  | hide | 20&nbsp;comments              \n",
      "      \n",
      "                \n",
      "      12.      The Airline Industry's Meltdown (theguardian.com)\n",
      "        21 points by kawera 4 hours ago  | hide | 4&nbsp;comments              \n",
      "      \n",
      "                \n",
      "      13.      New Features in the Fish Shell (lwn.net)\n",
      "        283 points by chmaynard 13 hours ago  | hide | 124&nbsp;comments              \n",
      "      \n",
      "                \n",
      "      14.      The Architecture of Open Source Applications (aosabook.org)\n",
      "        26 points by xanthine 5 hours ago  | hide | 1&nbsp;comment              \n",
      "      \n",
      "                \n",
      "      15.      Incorrect transformation: (llvm.maximum undef, %x) – undef (llvm.org)\n",
      "        15 points by luu 3 hours ago  | hide | discuss              \n",
      "      \n",
      "                \n",
      "      16.      Several Apple Services Down (apple.com)\n",
      "        195 points by jader201 6 hours ago  | hide | 92&nbsp;comments              \n",
      "      \n",
      "                \n",
      "      17.      OBS Studio 26.0 (github.com)\n",
      "        296 points by haunter 10 hours ago  | hide | 119&nbsp;comments              \n",
      "      \n",
      "                \n",
      "      18.      City of Amsterdam’s Algorithm Register (amsterdam.nl)\n",
      "        58 points by cpeterso 6 hours ago  | hide | 9&nbsp;comments              \n",
      "      \n",
      "                \n",
      "      19.      When Fonts Fall (figma.com)\n",
      "        174 points by twog 12 hours ago  | hide | 28&nbsp;comments              \n",
      "      \n",
      "                \n",
      "      20.      Compact nuclear fusion reactor is 'very likely to work,' studies suggest (nytimes.com)\n",
      "        489 points by Todd 15 hours ago  | hide | 243&nbsp;comments              \n",
      "      \n",
      "                \n",
      "      21.      U.S. expected to sue Google next week as DOJ seeks support from states (reuters.com)\n",
      "        83 points by pseudolus 4 hours ago  | hide | 33&nbsp;comments              \n",
      "      \n",
      "                \n",
      "      22.      Fortran Compiled to WebAssembly (github.com)\n",
      "        51 points by todsacerdoti 9 hours ago  | hide | 8&nbsp;comments              \n",
      "      \n",
      "                \n",
      "      23.      Specially made gloves let Brazilian pianist Joao Carlos Martins play again (chicagotribune.com)\n",
      "        84 points by BobbyVsTheDevil 13 hours ago  | hide | 11&nbsp;comments              \n",
      "      \n",
      "                \n",
      "      24.      Writing a book: is it worth it? (kleppmann.com)\n",
      "        542 points by vivekseth 17 hours ago  | hide | 243&nbsp;comments              \n",
      "      \n",
      "                \n",
      "      25.      Summary of all the MIT Introduction to Algorithms lectures (2009) (catonmat.net)\n",
      "        124 points by addisonc 12 hours ago  | hide | 7&nbsp;comments              \n",
      "      \n",
      "                \n",
      "      26.      Tridactyl: A Vim-like interface for Firefox (github.com)\n",
      "        87 points by RMPR 11 hours ago  | hide | 36&nbsp;comments              \n",
      "      \n",
      "                \n",
      "      27.      Rust 2021: GUI (raphlinus.github.io)\n",
      "        317 points by clarkmoody 12 hours ago  | hide | 188&nbsp;comments              \n",
      "      \n",
      "                \n",
      "      28.      Apollo – An Extensible Docker-Based Platform as a Service (PaaS) (gitlab.com)\n",
      "        80 points by kchhina 11 hours ago  | hide | 31&nbsp;comments              \n",
      "      \n",
      "                \n",
      "      29.      Is a Turtle an Animal or a Fish? (laphamsquarterly.org)\n",
      "        46 points by Petiver 9 hours ago  | hide | 26&nbsp;comments              \n",
      "      \n",
      "                \n",
      "      30.      The pace of environmental change can doom or save coral reefs (phys.org)\n",
      "        25 points by dnetesn 9 hours ago  | hide | 3&nbsp;comments              \n",
      "      \n",
      "            More\n",
      "  \n",
      "\n",
      "Guidelines\n",
      "        | FAQ\n",
      "        | Support\n",
      "        | API\n",
      "        | Security\n",
      "        | Lists\n",
      "        | Bookmarklet\n",
      "        | Legal\n",
      "        | Apply to YC\n",
      "        | ContactSearch:\n",
      "          \n",
      "            \n",
      "      \n",
      "\n"
     ]
    }
   ],
   "source": [
    "import re\n",
    "\n",
    "# Remove HTML tags using RegEx\n",
    "pattern = re.compile(r'<.*?>')  # tags look like <...>\n",
    "print(pattern.sub('', r.text))  # replace them with blank"
   ]
  },
  {
   "cell_type": "code",
   "execution_count": 6,
   "metadata": {},
   "outputs": [
    {
     "name": "stdout",
     "output_type": "stream",
     "text": [
      "\n",
      "        \n",
      "          \n",
      "        Hacker News\n",
      "        \n",
      "                  Hacker News\n",
      "              new | past | comments | ask | show | jobs | submit            \n",
      "                              login\n",
      "                          \n",
      "              \n",
      "\n",
      "              \n",
      "      1.      Apple’s T2 security chip jailbreak (reportcybercrime.com)\n",
      "        124 points by Yeri 1 hour ago  | hide | 22 comments              \n",
      "      \n",
      "                \n",
      "      2.      From zero to main(): How to write a bootloader from scratch (memfault.com)\n",
      "        141 points by tigerlily 4 hours ago  | hide | 9 comments              \n",
      "      \n",
      "                \n",
      "      3.      Haskell GHC 9.0.1-alpha released with Linear type support (haskell.org)\n",
      "        86 points by harporoeder 5 hours ago  | hide | 40 comments              \n",
      "      \n",
      "                \n",
      "      4.      Seeing Theory: A Visual Introduction to Probability and Statistics (brown.edu)\n",
      "        312 points by max10541 10 hours ago  | hide | 40 comments              \n",
      "      \n",
      "                \n",
      "      5.      Social Cooling (2017) (socialcooling.com)\n",
      "        2303 points by rapnie 18 hours ago  | hide | 914 comments              \n",
      "      \n",
      "                \n",
      "      6.      Complexity Scientist Beats Traffic Jams Through Adaptation (quantamagazine.org)\n",
      "        41 points by theafh 5 hours ago  | hide | 8 comments              \n",
      "      \n",
      "                \n",
      "      7.      I used the internet to painlessly relearn a foreign language (medium.com)\n",
      "        97 points by robertwiblin 8 hours ago  | hide | 52 comments              \n",
      "      \n",
      "                \n",
      "      8.      Gustav (YC S17) Is Hiring – Senior Front End React (Fully Remote) (breezy.hr)\n",
      "        57 minutes ago | hide      \n",
      "      \n",
      "                \n",
      "      9.      Transistor Options Beyond 3nm (2018) (semiengineering.com)\n",
      "        15 points by cracker_jacks 3 hours ago  | hide | discuss              \n",
      "      \n",
      "                \n",
      "      10.      Firetable – Spreadsheet-like UI for Firestore (firetable.io)\n",
      "        71 points by anindha 6 hours ago  | hide | 7 comments              \n",
      "      \n",
      "                \n",
      "      11.      Python for Kids: A Comprehensive Python Development Tutorial for Kids (github.com)\n",
      "        138 points by rbanffy 10 hours ago  | hide | 20 comments              \n",
      "      \n",
      "                \n",
      "      12.      The Airline Industry's Meltdown (theguardian.com)\n",
      "        21 points by kawera 4 hours ago  | hide | 4 comments              \n",
      "      \n",
      "                \n",
      "      13.      New Features in the Fish Shell (lwn.net)\n",
      "        283 points by chmaynard 13 hours ago  | hide | 124 comments              \n",
      "      \n",
      "                \n",
      "      14.      The Architecture of Open Source Applications (aosabook.org)\n",
      "        26 points by xanthine 5 hours ago  | hide | 1 comment              \n",
      "      \n",
      "                \n",
      "      15.      Incorrect transformation: (llvm.maximum undef, %x) – undef (llvm.org)\n",
      "        15 points by luu 3 hours ago  | hide | discuss              \n",
      "      \n",
      "                \n",
      "      16.      Several Apple Services Down (apple.com)\n",
      "        195 points by jader201 6 hours ago  | hide | 92 comments              \n",
      "      \n",
      "                \n",
      "      17.      OBS Studio 26.0 (github.com)\n",
      "        296 points by haunter 10 hours ago  | hide | 119 comments              \n",
      "      \n",
      "                \n",
      "      18.      City of Amsterdam’s Algorithm Register (amsterdam.nl)\n",
      "        58 points by cpeterso 6 hours ago  | hide | 9 comments              \n",
      "      \n",
      "                \n",
      "      19.      When Fonts Fall (figma.com)\n",
      "        174 points by twog 12 hours ago  | hide | 28 comments              \n",
      "      \n",
      "                \n",
      "      20.      Compact nuclear fusion reactor is 'very likely to work,' studies suggest (nytimes.com)\n",
      "        489 points by Todd 15 hours ago  | hide | 243 comments              \n",
      "      \n",
      "                \n",
      "      21.      U.S. expected to sue Google next week as DOJ seeks support from states (reuters.com)\n",
      "        83 points by pseudolus 4 hours ago  | hide | 33 comments              \n",
      "      \n",
      "                \n",
      "      22.      Fortran Compiled to WebAssembly (github.com)\n",
      "        51 points by todsacerdoti 9 hours ago  | hide | 8 comments              \n",
      "      \n",
      "                \n",
      "      23.      Specially made gloves let Brazilian pianist Joao Carlos Martins play again (chicagotribune.com)\n",
      "        84 points by BobbyVsTheDevil 13 hours ago  | hide | 11 comments              \n",
      "      \n",
      "                \n",
      "      24.      Writing a book: is it worth it? (kleppmann.com)\n",
      "        542 points by vivekseth 17 hours ago  | hide | 243 comments              \n",
      "      \n",
      "                \n",
      "      25.      Summary of all the MIT Introduction to Algorithms lectures (2009) (catonmat.net)\n",
      "        124 points by addisonc 12 hours ago  | hide | 7 comments              \n",
      "      \n",
      "                \n",
      "      26.      Tridactyl: A Vim-like interface for Firefox (github.com)\n",
      "        87 points by RMPR 11 hours ago  | hide | 36 comments              \n",
      "      \n",
      "                \n",
      "      27.      Rust 2021: GUI (raphlinus.github.io)\n",
      "        317 points by clarkmoody 12 hours ago  | hide | 188 comments              \n",
      "      \n",
      "                \n",
      "      28.      Apollo – An Extensible Docker-Based Platform as a Service (PaaS) (gitlab.com)\n",
      "        80 points by kchhina 11 hours ago  | hide | 31 comments              \n",
      "      \n",
      "                \n",
      "      29.      Is a Turtle an Animal or a Fish? (laphamsquarterly.org)\n",
      "        46 points by Petiver 9 hours ago  | hide | 26 comments              \n",
      "      \n",
      "                \n",
      "      30.      The pace of environmental change can doom or save coral reefs (phys.org)\n",
      "        25 points by dnetesn 9 hours ago  | hide | 3 comments              \n",
      "      \n",
      "            More\n",
      "  \n",
      "\n",
      "Guidelines\n",
      "        | FAQ\n",
      "        | Support\n",
      "        | API\n",
      "        | Security\n",
      "        | Lists\n",
      "        | Bookmarklet\n",
      "        | Legal\n",
      "        | Apply to YC\n",
      "        | ContactSearch:\n",
      "          \n",
      "            \n",
      "      \n",
      "\n"
     ]
    }
   ],
   "source": [
    "from bs4 import BeautifulSoup\n",
    "\n",
    "# Remove HTML tags using Beautiful Soup library\n",
    "soup = BeautifulSoup(r.text, \"html5lib\")\n",
    "print(soup.get_text())"
   ]
  },
  {
   "cell_type": "code",
   "execution_count": 7,
   "metadata": {
    "scrolled": true
   },
   "outputs": [
    {
     "data": {
      "text/plain": [
       "<tr class=\"athing\" id=\"24636166\">\n",
       "      <td align=\"right\" class=\"title\" valign=\"top\"><span class=\"rank\">1.</span></td>      <td class=\"votelinks\" valign=\"top\"><center><a href=\"vote?id=24636166&amp;how=up&amp;goto=news\" id=\"up_24636166\"><div class=\"votearrow\" title=\"upvote\"></div></a></center></td><td class=\"title\"><a class=\"storylink\" href=\"https://reportcybercrime.com/hackers-jailbreak-apples-t2-security-chip-powered-by-bridgeos/\">Apple’s T2 security chip jailbreak</a><span class=\"sitebit comhead\"> (<a href=\"from?site=reportcybercrime.com\"><span class=\"sitestr\">reportcybercrime.com</span></a>)</span></td></tr>"
      ]
     },
     "execution_count": 7,
     "metadata": {},
     "output_type": "execute_result"
    }
   ],
   "source": [
    "# Find all articles\n",
    "summaries = soup.find_all(\"tr\", class_=\"athing\")\n",
    "summaries[0]"
   ]
  },
  {
   "cell_type": "code",
   "execution_count": 8,
   "metadata": {},
   "outputs": [
    {
     "data": {
      "text/plain": [
       "'Apple’s T2 security chip jailbreak'"
      ]
     },
     "execution_count": 8,
     "metadata": {},
     "output_type": "execute_result"
    }
   ],
   "source": [
    "# Extract title\n",
    "summaries[0].find(\"a\", class_=\"storylink\").get_text().strip()"
   ]
  },
  {
   "cell_type": "code",
   "execution_count": 9,
   "metadata": {},
   "outputs": [
    {
     "name": "stdout",
     "output_type": "stream",
     "text": [
      "30 Article summaries found. Sample:\n",
      "Apple’s T2 security chip jailbreak\n"
     ]
    }
   ],
   "source": [
    "# Find all articles, extract titles\n",
    "articles = []\n",
    "summaries = soup.find_all(\"tr\", class_=\"athing\")\n",
    "for summary in summaries:\n",
    "    title = summary.find(\"a\", class_=\"storylink\").get_text().strip()\n",
    "    articles.append((title))\n",
    "\n",
    "print(len(articles), \"Article summaries found. Sample:\")\n",
    "print(articles[0])"
   ]
  },
  {
   "cell_type": "markdown",
   "metadata": {
    "collapsed": true
   },
   "source": [
    "## Normalization"
   ]
  },
  {
   "cell_type": "markdown",
   "metadata": {},
   "source": [
    "### Case Normalization"
   ]
  },
  {
   "cell_type": "code",
   "execution_count": 10,
   "metadata": {},
   "outputs": [
    {
     "name": "stdout",
     "output_type": "stream",
     "text": [
      "The first time you see The Second Renaissance it may look boring. Look at it at least twice and definitely watch part 2. It will change your view of the matrix. Are the human people the ones who started the war ? Is AI a bad thing ?\n"
     ]
    }
   ],
   "source": [
    "# Sample text\n",
    "text = \"The first time you see The Second Renaissance it may look boring. Look at it at least twice and definitely watch part 2. It will change your view of the matrix. Are the human people the ones who started the war ? Is AI a bad thing ?\"\n",
    "print(text)"
   ]
  },
  {
   "cell_type": "code",
   "execution_count": 11,
   "metadata": {},
   "outputs": [
    {
     "name": "stdout",
     "output_type": "stream",
     "text": [
      "the first time you see the second renaissance it may look boring. look at it at least twice and definitely watch part 2. it will change your view of the matrix. are the human people the ones who started the war ? is ai a bad thing ?\n"
     ]
    }
   ],
   "source": [
    "# Convert to lowercase\n",
    "text = text.lower() \n",
    "print(text)"
   ]
  },
  {
   "cell_type": "markdown",
   "metadata": {},
   "source": [
    "### Punctuation Removal"
   ]
  },
  {
   "cell_type": "code",
   "execution_count": 12,
   "metadata": {},
   "outputs": [
    {
     "name": "stdout",
     "output_type": "stream",
     "text": [
      "the first time you see the second renaissance it may look boring  look at it at least twice and definitely watch part 2  it will change your view of the matrix  are the human people the ones who started the war   is ai a bad thing  \n"
     ]
    }
   ],
   "source": [
    "import re\n",
    "\n",
    "# Remove punctuation characters\n",
    "text = re.sub(r\"[^a-zA-Z0-9]\", \" \", text) \n",
    "print(text)"
   ]
  },
  {
   "cell_type": "markdown",
   "metadata": {},
   "source": [
    "## Tokenization"
   ]
  },
  {
   "cell_type": "code",
   "execution_count": 13,
   "metadata": {},
   "outputs": [
    {
     "name": "stdout",
     "output_type": "stream",
     "text": [
      "['the', 'first', 'time', 'you', 'see', 'the', 'second', 'renaissance', 'it', 'may', 'look', 'boring', 'look', 'at', 'it', 'at', 'least', 'twice', 'and', 'definitely', 'watch', 'part', '2', 'it', 'will', 'change', 'your', 'view', 'of', 'the', 'matrix', 'are', 'the', 'human', 'people', 'the', 'ones', 'who', 'started', 'the', 'war', 'is', 'ai', 'a', 'bad', 'thing']\n"
     ]
    }
   ],
   "source": [
    "# Split text into tokens (words)\n",
    "words = text.split()\n",
    "print(words)"
   ]
  },
  {
   "cell_type": "markdown",
   "metadata": {},
   "source": [
    "### NLTK: Natural Language ToolKit"
   ]
  },
  {
   "cell_type": "code",
   "execution_count": 14,
   "metadata": {},
   "outputs": [],
   "source": [
    "import os\n",
    "import nltk\n",
    "nltk.data.path.append(os.path.join(os.getcwd(), \"nltk_data\"))"
   ]
  },
  {
   "cell_type": "code",
   "execution_count": 15,
   "metadata": {},
   "outputs": [
    {
     "name": "stdout",
     "output_type": "stream",
     "text": [
      "Dr. Smith graduated from the University of Washington. He later started an analytics firm called Lux, which catered to enterprise customers.\n"
     ]
    }
   ],
   "source": [
    "# Another sample text\n",
    "text = \"Dr. Smith graduated from the University of Washington. He later started an analytics firm called Lux, which catered to enterprise customers.\"\n",
    "print(text)"
   ]
  },
  {
   "cell_type": "code",
   "execution_count": 16,
   "metadata": {},
   "outputs": [
    {
     "name": "stdout",
     "output_type": "stream",
     "text": [
      "['Dr.', 'Smith', 'graduated', 'from', 'the', 'University', 'of', 'Washington', '.', 'He', 'later', 'started', 'an', 'analytics', 'firm', 'called', 'Lux', ',', 'which', 'catered', 'to', 'enterprise', 'customers', '.']\n"
     ]
    }
   ],
   "source": [
    "from nltk.tokenize import word_tokenize\n",
    "\n",
    "# Split text into words using NLTK\n",
    "words = word_tokenize(text)\n",
    "print(words)"
   ]
  },
  {
   "cell_type": "code",
   "execution_count": 17,
   "metadata": {},
   "outputs": [
    {
     "name": "stdout",
     "output_type": "stream",
     "text": [
      "['Dr. Smith graduated from the University of Washington.', 'He later started an analytics firm called Lux, which catered to enterprise customers.']\n"
     ]
    }
   ],
   "source": [
    "from nltk.tokenize import sent_tokenize\n",
    "\n",
    "# Split text into sentences\n",
    "sentences = sent_tokenize(text)\n",
    "print(sentences)"
   ]
  },
  {
   "cell_type": "code",
   "execution_count": 18,
   "metadata": {},
   "outputs": [
    {
     "name": "stdout",
     "output_type": "stream",
     "text": [
      "['i', 'me', 'my', 'myself', 'we', 'our', 'ours', 'ourselves', 'you', \"you're\", \"you've\", \"you'll\", \"you'd\", 'your', 'yours', 'yourself', 'yourselves', 'he', 'him', 'his', 'himself', 'she', \"she's\", 'her', 'hers', 'herself', 'it', \"it's\", 'its', 'itself', 'they', 'them', 'their', 'theirs', 'themselves', 'what', 'which', 'who', 'whom', 'this', 'that', \"that'll\", 'these', 'those', 'am', 'is', 'are', 'was', 'were', 'be', 'been', 'being', 'have', 'has', 'had', 'having', 'do', 'does', 'did', 'doing', 'a', 'an', 'the', 'and', 'but', 'if', 'or', 'because', 'as', 'until', 'while', 'of', 'at', 'by', 'for', 'with', 'about', 'against', 'between', 'into', 'through', 'during', 'before', 'after', 'above', 'below', 'to', 'from', 'up', 'down', 'in', 'out', 'on', 'off', 'over', 'under', 'again', 'further', 'then', 'once', 'here', 'there', 'when', 'where', 'why', 'how', 'all', 'any', 'both', 'each', 'few', 'more', 'most', 'other', 'some', 'such', 'no', 'nor', 'not', 'only', 'own', 'same', 'so', 'than', 'too', 'very', 's', 't', 'can', 'will', 'just', 'don', \"don't\", 'should', \"should've\", 'now', 'd', 'll', 'm', 'o', 're', 've', 'y', 'ain', 'aren', \"aren't\", 'couldn', \"couldn't\", 'didn', \"didn't\", 'doesn', \"doesn't\", 'hadn', \"hadn't\", 'hasn', \"hasn't\", 'haven', \"haven't\", 'isn', \"isn't\", 'ma', 'mightn', \"mightn't\", 'mustn', \"mustn't\", 'needn', \"needn't\", 'shan', \"shan't\", 'shouldn', \"shouldn't\", 'wasn', \"wasn't\", 'weren', \"weren't\", 'won', \"won't\", 'wouldn', \"wouldn't\"]\n"
     ]
    }
   ],
   "source": [
    "# List stop words\n",
    "from nltk.corpus import stopwords\n",
    "print(stopwords.words(\"english\"))"
   ]
  },
  {
   "cell_type": "code",
   "execution_count": 19,
   "metadata": {},
   "outputs": [
    {
     "name": "stdout",
     "output_type": "stream",
     "text": [
      "['the', 'first', 'time', 'you', 'see', 'the', 'second', 'renaissance', 'it', 'may', 'look', 'boring', 'look', 'at', 'it', 'at', 'least', 'twice', 'and', 'definitely', 'watch', 'part', '2', 'it', 'will', 'change', 'your', 'view', 'of', 'the', 'matrix', 'are', 'the', 'human', 'people', 'the', 'ones', 'who', 'started', 'the', 'war', 'is', 'ai', 'a', 'bad', 'thing']\n"
     ]
    }
   ],
   "source": [
    "# Reset text\n",
    "text = \"The first time you see The Second Renaissance it may look boring. Look at it at least twice and definitely watch part 2. It will change your view of the matrix. Are the human people the ones who started the war ? Is AI a bad thing ?\"\n",
    "\n",
    "# Normalize it\n",
    "text = re.sub(r\"[^a-zA-Z0-9]\", \" \", text.lower())\n",
    "\n",
    "# Tokenize it\n",
    "words = text.split()\n",
    "print(words)"
   ]
  },
  {
   "cell_type": "code",
   "execution_count": 20,
   "metadata": {},
   "outputs": [
    {
     "name": "stdout",
     "output_type": "stream",
     "text": [
      "['first', 'time', 'see', 'second', 'renaissance', 'may', 'look', 'boring', 'look', 'least', 'twice', 'definitely', 'watch', 'part', '2', 'change', 'view', 'matrix', 'human', 'people', 'ones', 'started', 'war', 'ai', 'bad', 'thing']\n"
     ]
    }
   ],
   "source": [
    "# Remove stop words\n",
    "words = [w for w in words if w not in stopwords.words(\"english\")]\n",
    "print(words)"
   ]
  },
  {
   "cell_type": "markdown",
   "metadata": {},
   "source": [
    "### Sentence Parsing"
   ]
  },
  {
   "cell_type": "code",
   "execution_count": 21,
   "metadata": {},
   "outputs": [
    {
     "name": "stdout",
     "output_type": "stream",
     "text": [
      "(S\n",
      "  (NP I)\n",
      "  (VP\n",
      "    (VP (V shot) (NP (Det an) (N elephant)))\n",
      "    (PP (P in) (NP (Det my) (N pajamas)))))\n",
      "(S\n",
      "  (NP I)\n",
      "  (VP\n",
      "    (V shot)\n",
      "    (NP (Det an) (N elephant) (PP (P in) (NP (Det my) (N pajamas))))))\n"
     ]
    }
   ],
   "source": [
    "import nltk\n",
    "\n",
    "# Define a custom grammar\n",
    "my_grammar = nltk.CFG.fromstring(\"\"\"\n",
    "S -> NP VP\n",
    "PP -> P NP\n",
    "NP -> Det N | Det N PP | 'I'\n",
    "VP -> V NP | VP PP\n",
    "Det -> 'an' | 'my'\n",
    "N -> 'elephant' | 'pajamas'\n",
    "V -> 'shot'\n",
    "P -> 'in'\n",
    "\"\"\")\n",
    "parser = nltk.ChartParser(my_grammar)\n",
    "\n",
    "# Parse a sentence\n",
    "sentence = word_tokenize(\"I shot an elephant in my pajamas\")\n",
    "for tree in parser.parse(sentence):\n",
    "    print(tree)"
   ]
  },
  {
   "cell_type": "markdown",
   "metadata": {},
   "source": [
    "## Stemming & Lemmatization\n",
    "\n",
    "### Stemming"
   ]
  },
  {
   "cell_type": "code",
   "execution_count": 22,
   "metadata": {},
   "outputs": [
    {
     "name": "stdout",
     "output_type": "stream",
     "text": [
      "['first', 'time', 'see', 'second', 'renaiss', 'may', 'look', 'bore', 'look', 'least', 'twice', 'definit', 'watch', 'part', '2', 'chang', 'view', 'matrix', 'human', 'peopl', 'one', 'start', 'war', 'ai', 'bad', 'thing']\n"
     ]
    }
   ],
   "source": [
    "from nltk.stem.porter import PorterStemmer\n",
    "\n",
    "# Reduce words to their stems\n",
    "stemmed = [PorterStemmer().stem(w) for w in words]\n",
    "print(stemmed)"
   ]
  },
  {
   "cell_type": "markdown",
   "metadata": {},
   "source": [
    "### Lemmatization"
   ]
  },
  {
   "cell_type": "code",
   "execution_count": 23,
   "metadata": {},
   "outputs": [
    {
     "name": "stdout",
     "output_type": "stream",
     "text": [
      "['first', 'time', 'see', 'second', 'renaissance', 'may', 'look', 'boring', 'look', 'least', 'twice', 'definitely', 'watch', 'part', '2', 'change', 'view', 'matrix', 'human', 'people', 'one', 'started', 'war', 'ai', 'bad', 'thing']\n"
     ]
    }
   ],
   "source": [
    "from nltk.stem.wordnet import WordNetLemmatizer\n",
    "\n",
    "# Reduce words to their root form\n",
    "lemmed = [WordNetLemmatizer().lemmatize(w) for w in words]\n",
    "print(lemmed)"
   ]
  },
  {
   "cell_type": "code",
   "execution_count": 24,
   "metadata": {},
   "outputs": [
    {
     "name": "stdout",
     "output_type": "stream",
     "text": [
      "['first', 'time', 'see', 'second', 'renaissance', 'may', 'look', 'bore', 'look', 'least', 'twice', 'definitely', 'watch', 'part', '2', 'change', 'view', 'matrix', 'human', 'people', 'one', 'start', 'war', 'ai', 'bad', 'thing']\n"
     ]
    }
   ],
   "source": [
    "# Lemmatize verbs by specifying pos\n",
    "lemmed = [WordNetLemmatizer().lemmatize(w, pos='v') for w in lemmed]\n",
    "print(lemmed)"
   ]
  },
  {
   "cell_type": "code",
   "execution_count": null,
   "metadata": {},
   "outputs": [],
   "source": []
  }
 ],
 "metadata": {
  "kernelspec": {
   "display_name": "Python 3",
   "language": "python",
   "name": "python3"
  },
  "language_info": {
   "codemirror_mode": {
    "name": "ipython",
    "version": 3
   },
   "file_extension": ".py",
   "mimetype": "text/x-python",
   "name": "python",
   "nbconvert_exporter": "python",
   "pygments_lexer": "ipython3",
   "version": "3.7.6"
  }
 },
 "nbformat": 4,
 "nbformat_minor": 4
}
